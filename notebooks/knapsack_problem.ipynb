{
 "cells": [
  {
   "cell_type": "markdown",
   "metadata": {},
   "source": [
    "# ライブラリインポート"
   ]
  },
  {
   "cell_type": "code",
   "execution_count": 207,
   "metadata": {},
   "outputs": [],
   "source": [
    "import random"
   ]
  },
  {
   "cell_type": "markdown",
   "metadata": {},
   "source": [
    "# 条件設定"
   ]
  },
  {
   "cell_type": "code",
   "execution_count": 208,
   "metadata": {},
   "outputs": [],
   "source": [
    "# アイテムの重量と価値\n",
    "weights = [2, 3, 6, 7, 5, 9]\n",
    "values = [1, 4, 5, 6, 3, 7]\n",
    "# ナップサックの最大容量\n",
    "capacity = 15"
   ]
  },
  {
   "cell_type": "markdown",
   "metadata": {},
   "source": [
    "# 関数"
   ]
  },
  {
   "cell_type": "markdown",
   "metadata": {},
   "source": [
    "## 個体の表現\n",
    "各個体の個体のアイテムの取得状態を表す。各個体は、0または1のビット列で表現する。"
   ]
  },
  {
   "cell_type": "code",
   "execution_count": 209,
   "metadata": {},
   "outputs": [],
   "source": [
    "def generate_individual(n: int) -> list[int]:\n",
    "    \"\"\" n個のアイテムに対してランダムな0/1のリストを生成する \"\"\"\n",
    "    return [random.randint(0, 1) for _ in range(n)]"
   ]
  },
  {
   "cell_type": "markdown",
   "metadata": {},
   "source": [
    "## 適応度関数\n",
    "個体がどれだけ「良い」解かを数値で評価する。ナップサック問題では、ナップサックの容量を超えない範囲での価値の合計が適応度となります。"
   ]
  },
  {
   "cell_type": "code",
   "execution_count": 210,
   "metadata": {},
   "outputs": [],
   "source": [
    "def fitness(individual: list[int], weights: int, values: int, capacity: int) -> int:\n",
    "    \"\"\" 個体の適応度を計算する関数 \"\"\"\n",
    "    total_weight: int = sum(w * ind for w, ind in zip(weights, individual))\n",
    "    total_value: int = sum(v * ind for v, ind in zip(values, individual))\n",
    "    if total_weight <= capacity:\n",
    "        return total_value\n",
    "    else:\n",
    "        return 0  # 容量を超える場合は適応度を0とする"
   ]
  },
  {
   "cell_type": "markdown",
   "metadata": {},
   "source": [
    "## 選択（Selection）\n",
    "適応度に基づいて個体を選択し、次世代の親として用いる。一般的な選択方法にルーレットホイール選択がありますが、ここではより単純なトーナメント選択を使う。"
   ]
  },
  {
   "cell_type": "code",
   "execution_count": 211,
   "metadata": {},
   "outputs": [],
   "source": [
    "def tournament_selection(population: list[int], scores: int, k: int=3):\n",
    "    \"\"\" トーナメント選択を行う関数 \"\"\"\n",
    "    # トーナメントのサイズkでランダムに個体を選ぶ\n",
    "    selection: list[tuple[list[int], int]] = random.sample(list(zip(population, scores)), k) # (polulation, score)のペアをランダムにk個取り出す\n",
    "    # 適応度が最も高い個体を選ぶ\n",
    "    selected = max(selection, key=lambda x: x[1])\n",
    "    return selected[0]"
   ]
  },
  {
   "cell_type": "markdown",
   "metadata": {},
   "source": [
    "## 交叉（Crossover）\n",
    "交叉は遺伝的多様性を保つための重要な手段である。ここでは一点交叉を実装する。"
   ]
  },
  {
   "cell_type": "code",
   "execution_count": 212,
   "metadata": {},
   "outputs": [],
   "source": [
    "def crossover(parent1: list[int], parent2: list[int]):\n",
    "    \"\"\" 一点交叉を行う関数 \"\"\"\n",
    "    if len(parent1) != len(parent2):\n",
    "        raise ValueError(\"両親の長さが一致していません。\")\n",
    "    \n",
    "    point: int = random.randint(1, len(parent1) - 1)\n",
    "    child1: list[int] = parent1[:point] + parent2[point:]\n",
    "    child2: list[int]  = parent2[:point] + parent1[point:]\n",
    "    return child1, child2"
   ]
  },
  {
   "cell_type": "markdown",
   "metadata": {},
   "source": [
    "# 突然変異（Mutation）\n",
    "突然変異はランダムに遺伝子を変更し、探索空間を広げるために用いる。"
   ]
  },
  {
   "cell_type": "code",
   "execution_count": 213,
   "metadata": {},
   "outputs": [],
   "source": [
    "def mutate(individual:list[int], mutation_rate: float=0.01):\n",
    "    \"\"\" 突然変異を適用する関数 \"\"\"\n",
    "    for i in range(len(individual)):\n",
    "        if random.random() < mutation_rate:\n",
    "            individual[i] = 1 - individual[i]  # ビットフリップ\n",
    "    return individual"
   ]
  },
  {
   "cell_type": "markdown",
   "metadata": {},
   "source": [
    "# 遺伝的アルゴリズムのメインループ"
   ]
  },
  {
   "cell_type": "code",
   "execution_count": 214,
   "metadata": {},
   "outputs": [],
   "source": [
    "def genetic_algorithm(weights: int, values:int, capacity: int, population_size: int=50, generations: int=100, mutation_rate: float=0.01):\n",
    "    \"\"\" 遺伝的アルゴリズムのメイン関数 \"\"\"\n",
    "    # 初期個体群を生成\n",
    "    population: list[list[int]] = [generate_individual(len(weights)) for _ in range(population_size)]\n",
    "    best_solution[list[int]] = None\n",
    "    best_score = 0\n",
    "    \n",
    "    for generation in range(generations):\n",
    "        # 適応度を計算\n",
    "        scores = [fitness(individual, weights, values, capacity) for individual in population]\n",
    "        \n",
    "        # 次世代の個体群を選択\n",
    "        new_population = []\n",
    "        for _ in range(population_size // 2):\n",
    "            parent1 = tournament_selection(population, scores)\n",
    "            parent2 = tournament_selection(population, scores)\n",
    "            child1, child2 = crossover(parent1, parent2)\n",
    "            new_population.extend([child1, child2])\n",
    "        \n",
    "        # 突然変異\n",
    "        population = [mutate(individual, mutation_rate) for individual in new_population]\n",
    "        \n",
    "        # 最良の解を更新\n",
    "        current_best_score = max(scores)\n",
    "        if current_best_score > best_score:\n",
    "            best_score = current_best_score\n",
    "            best_solution = population[scores.index(current_best_score)]\n",
    "        \n",
    "        # 進捗を表示\n",
    "        print(f\"Generation {generation}: Best Score = {best_score}\")\n",
    "    \n",
    "    return best_solution, best_score"
   ]
  },
  {
   "cell_type": "code",
   "execution_count": 215,
   "metadata": {},
   "outputs": [
    {
     "name": "stdout",
     "output_type": "stream",
     "text": [
      "Generation 0: Best Score = 12\n",
      "Generation 1: Best Score = 12\n",
      "Generation 2: Best Score = 12\n",
      "Generation 3: Best Score = 12\n",
      "Generation 4: Best Score = 12\n",
      "Generation 5: Best Score = 12\n",
      "Generation 6: Best Score = 12\n",
      "Generation 7: Best Score = 12\n",
      "Generation 8: Best Score = 12\n",
      "Generation 9: Best Score = 12\n",
      "Generation 10: Best Score = 12\n",
      "Generation 11: Best Score = 12\n",
      "Generation 12: Best Score = 12\n",
      "Generation 13: Best Score = 12\n",
      "Generation 14: Best Score = 12\n",
      "Generation 15: Best Score = 12\n",
      "Generation 16: Best Score = 12\n",
      "Generation 17: Best Score = 12\n",
      "Generation 18: Best Score = 12\n",
      "Generation 19: Best Score = 12\n",
      "Generation 20: Best Score = 12\n",
      "Generation 21: Best Score = 12\n",
      "Generation 22: Best Score = 12\n",
      "Generation 23: Best Score = 12\n",
      "Generation 24: Best Score = 12\n",
      "Generation 25: Best Score = 12\n",
      "Generation 26: Best Score = 12\n",
      "Generation 27: Best Score = 12\n",
      "Generation 28: Best Score = 12\n",
      "Generation 29: Best Score = 12\n",
      "Generation 30: Best Score = 12\n",
      "Generation 31: Best Score = 12\n",
      "Generation 32: Best Score = 12\n",
      "Generation 33: Best Score = 12\n",
      "Generation 34: Best Score = 12\n",
      "Generation 35: Best Score = 12\n",
      "Generation 36: Best Score = 12\n",
      "Generation 37: Best Score = 12\n",
      "Generation 38: Best Score = 12\n",
      "Generation 39: Best Score = 12\n",
      "Generation 40: Best Score = 12\n",
      "Generation 41: Best Score = 12\n",
      "Generation 42: Best Score = 12\n",
      "Generation 43: Best Score = 12\n",
      "Generation 44: Best Score = 12\n",
      "Generation 45: Best Score = 12\n",
      "Generation 46: Best Score = 12\n",
      "Generation 47: Best Score = 12\n",
      "Generation 48: Best Score = 12\n",
      "Generation 49: Best Score = 12\n",
      "Generation 50: Best Score = 12\n",
      "Generation 51: Best Score = 12\n",
      "Generation 52: Best Score = 12\n",
      "Generation 53: Best Score = 12\n",
      "Generation 54: Best Score = 12\n",
      "Generation 55: Best Score = 12\n",
      "Generation 56: Best Score = 12\n",
      "Generation 57: Best Score = 12\n",
      "Generation 58: Best Score = 12\n",
      "Generation 59: Best Score = 12\n",
      "Generation 60: Best Score = 12\n",
      "Generation 61: Best Score = 12\n",
      "Generation 62: Best Score = 12\n",
      "Generation 63: Best Score = 12\n",
      "Generation 64: Best Score = 12\n",
      "Generation 65: Best Score = 12\n",
      "Generation 66: Best Score = 12\n",
      "Generation 67: Best Score = 12\n",
      "Generation 68: Best Score = 12\n",
      "Generation 69: Best Score = 12\n",
      "Generation 70: Best Score = 12\n",
      "Generation 71: Best Score = 12\n",
      "Generation 72: Best Score = 12\n",
      "Generation 73: Best Score = 12\n",
      "Generation 74: Best Score = 12\n",
      "Generation 75: Best Score = 12\n",
      "Generation 76: Best Score = 12\n",
      "Generation 77: Best Score = 12\n",
      "Generation 78: Best Score = 12\n",
      "Generation 79: Best Score = 12\n",
      "Generation 80: Best Score = 12\n",
      "Generation 81: Best Score = 12\n",
      "Generation 82: Best Score = 12\n",
      "Generation 83: Best Score = 12\n",
      "Generation 84: Best Score = 12\n",
      "Generation 85: Best Score = 12\n",
      "Generation 86: Best Score = 12\n",
      "Generation 87: Best Score = 12\n",
      "Generation 88: Best Score = 12\n",
      "Generation 89: Best Score = 12\n",
      "Generation 90: Best Score = 12\n",
      "Generation 91: Best Score = 12\n",
      "Generation 92: Best Score = 12\n",
      "Generation 93: Best Score = 12\n",
      "Generation 94: Best Score = 12\n",
      "Generation 95: Best Score = 12\n",
      "Generation 96: Best Score = 12\n",
      "Generation 97: Best Score = 12\n",
      "Generation 98: Best Score = 12\n",
      "Generation 99: Best Score = 12\n",
      "Best Solution: [0, 0, 1, 0, 0, 1]\n",
      "Best Score: 12\n"
     ]
    }
   ],
   "source": [
    "weights = [2, 3, 6, 7, 5, 9]\n",
    "values = [1, 4, 5, 6, 3, 7]\n",
    "capacity = 15\n",
    "best_solution, best_score = genetic_algorithm(weights, values, capacity)\n",
    "print(\"Best Solution:\", best_solution)\n",
    "print(\"Best Score:\", best_score)"
   ]
  },
  {
   "cell_type": "markdown",
   "metadata": {},
   "source": []
  }
 ],
 "metadata": {
  "kernelspec": {
   "display_name": "venv",
   "language": "python",
   "name": "python3"
  },
  "language_info": {
   "codemirror_mode": {
    "name": "ipython",
    "version": 3
   },
   "file_extension": ".py",
   "mimetype": "text/x-python",
   "name": "python",
   "nbconvert_exporter": "python",
   "pygments_lexer": "ipython3",
   "version": "3.12.2"
  }
 },
 "nbformat": 4,
 "nbformat_minor": 2
}
