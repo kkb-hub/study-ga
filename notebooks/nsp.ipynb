{
 "cells": [
  {
   "cell_type": "markdown",
   "metadata": {},
   "source": [
    "# このNotebookについて\n",
    "- 参考: [Link](https://ryono-blog.com/%E3%80%90python%E3%80%91%E9%81%BA%E4%BC%9D%E7%9A%84%E3%82%A2%E3%83%AB%E3%82%B4%E3%83%AA%E3%82%BA%E3%83%A0%EF%BC%88ga%EF%BC%89%E3%81%A7%E3%82%B9%E3%82%B1%E3%82%B8%E3%83%A5%E3%83%BC%E3%83%AA%E3%83%B3)"
   ]
  },
  {
   "cell_type": "markdown",
   "metadata": {},
   "source": [
    "# 問題定義\n",
    "- 1週間のシフトを5人で回す。\n",
    "- 出勤が1で休暇は0。\n",
    "\n",
    "| 曜日   | 月 | 火 | 水 | 木 | 金 | 土 | 日 |\n",
    "|------|---|---|---|---|---|---|---|\n",
    "| 必要人数 | 2 | 2 | 2 | 1 | 2 | 3 | 3 |\n",
    "| 従業員１  | 1 | 0 | 0 | 0 | 0 | 1 | 1 |\n",
    "| 従業員2  | 0 | 1 | 0 | 0 | 1 | 0 | 1 |\n",
    "| 従業員3  | 0 | 1 | 1 | 0 | 0 | 1 | 0 |\n",
    "| 従業員4  | 1 | 0 | 0 | 1 | 0 | 0 | 1 |\n",
    "| 従業員5  | 0 | 0 | 1 | 0 | 1 | 1 | 0 |\n",
    "\n",
    "- 出力は二次元配列となる。  \n",
    "`[[1.0, 0.0, 0.0, 0.0, 0.0, 1.0, 1.0], [0.0, 1.0, 0.0, 0.0, 1.0, 0.0, 1.0], [0.0, 1.0, 1.0, 0.0, 0.0, 1.0, 0.0], [1.0, 0.0, 0.0, 1.0, 0.0, 0.0, 1.0], [0.0, 0.0, 1.0, 0.0, 1.0, 1.0, 0.0]]`\n",
    "\n",
    "- 制約条件\n",
    "  - 各従業員は出勤が3日まで。\n",
    "  - 必要人数と実際に割り振る人数が一致する。"
   ]
  },
  {
   "cell_type": "markdown",
   "metadata": {},
   "source": [
    "# ライブラリインポート"
   ]
  },
  {
   "cell_type": "code",
   "execution_count": 57,
   "metadata": {},
   "outputs": [],
   "source": [
    "from datetime import datetime\n",
    "import random\n",
    "from decimal import Decimal\n",
    "import numpy as np\n",
    "from itertools import zip_longest"
   ]
  },
  {
   "cell_type": "markdown",
   "metadata": {},
   "source": [
    "# 定義"
   ]
  },
  {
   "cell_type": "markdown",
   "metadata": {},
   "source": [
    "## パラメータ"
   ]
  },
  {
   "cell_type": "code",
   "execution_count": 58,
   "metadata": {},
   "outputs": [],
   "source": [
    "# シフトの定義（シフト, 必要人数）\n",
    "SHIFT_BOX = [('Mon',2), ('Tue',2), ('Wed',2), ('Thu',1), ('Fri',2), ('Sat',3), ('Sun',3)]\n",
    "# シフト\n",
    "DAY = len(SHIFT_BOX)\n",
    "# 従業員数\n",
    "PEOPLE = 5\n",
    "# 各従業員の出勤最大日数\n",
    "MAX_SHIFT = 3\n",
    "# 遺伝子情報の長さ\n",
    "GENOM_LENGTH = PEOPLE * DAY\n",
    "# 遺伝子集団の大きさ\n",
    "MAX_GENOM_LIST = 300\n",
    "# 遺伝子選択数\n",
    "SELECT_GENOM = 40\n",
    "# 個体突然変異確率\n",
    "INDIVIDUAL_MUTATION = 0.1\n",
    "# 遺伝子突然変異確率\n",
    "GENOM_MUTATION = 0.1\n",
    "# 繰り返す世代数\n",
    "MAX_GENERATION = 40\n",
    "# 繰り返しをやめる評価値の閾値\n",
    "THRESSHOLD = 0"
   ]
  },
  {
   "cell_type": "markdown",
   "metadata": {},
   "source": [
    "## 染色体クラス\n",
    "遺伝子情報や、適応度を格納するクラス"
   ]
  },
  {
   "cell_type": "code",
   "execution_count": 59,
   "metadata": {},
   "outputs": [],
   "source": [
    "# 染色体の定義\n",
    "class Chromosome:\n",
    "\n",
    "    genom = None\n",
    "    evaluation = None\n",
    "\n",
    "    def __init__(self, genom, evaluation) -> None:\n",
    "        self.genom = genom\n",
    "        self.evaluation = evaluation\n",
    "\n",
    "    def getGenom(self):\n",
    "        return self.genom\n",
    "\n",
    "    def getEvaluation(self):\n",
    "        return self.evaluation\n",
    "\n",
    "    def setGenom(self, genom_list) -> None:\n",
    "        self.genom = genom_list\n",
    "\n",
    "    def setEvaluation(self, evaluation) -> None:\n",
    "        self.evaluation = evaluation"
   ]
  },
  {
   "cell_type": "markdown",
   "metadata": {},
   "source": [
    "## 複数個体を生成する関数"
   ]
  },
  {
   "cell_type": "code",
   "execution_count": 60,
   "metadata": {},
   "outputs": [],
   "source": [
    "def create_Chromosome(length):\n",
    "    \"\"\"\n",
    "    引数で指定された桁のランダムな遺伝子情報を生成、格納したChromosomeClassで返す。\n",
    "    :param length: 遺伝子情報長\n",
    "    :return: 生成した個体集団ChromosomeClass\n",
    "    \"\"\"\n",
    "    days_list = []\n",
    "    genom_list = []\n",
    "    \n",
    "    for i in range(int(GENOM_LENGTH/DAY)): # genom長は人の数x日数\n",
    "        for j in range(DAY):\n",
    "            days_list.append(float(random.randint(0,1)))\n",
    "        genom_list.append(days_list)\n",
    "        days_list = []\n",
    "    return Chromosome(genom_list, 0)"
   ]
  },
  {
   "cell_type": "markdown",
   "metadata": {},
   "source": [
    "## 評価関数\n",
    "どれだけ制約が守られているかを評価する。"
   ]
  },
  {
   "cell_type": "code",
   "execution_count": 61,
   "metadata": {},
   "outputs": [],
   "source": [
    "def evaluation(Chromosome):\n",
    "    \"\"\"評価関数。制約式のペナルティーを適応度とする\n",
    "    :param Chromosome: 評価を行うChromosomeClass\n",
    "    :return: 評価処理をしたChromosomeClassを返す\n",
    "    \"\"\"\n",
    "    fitness = constraints(Chromosome)\n",
    "    \n",
    "    return fitness\n",
    "\n",
    "def constraints(Chromosome):\n",
    "    \"\"\"制約関数。制約が満たされない場合、ペナルティーを付与する。\n",
    "    :param Chromosome: 評価を行うChromosomeClass\n",
    "    :return: penalty \n",
    "    \"\"\"\n",
    "    global penalty\n",
    "    penalty = 0.0\n",
    "    # 多次元配列から行列に変換\n",
    "    genom_arr = np.array(Chromosome.getGenom())\n",
    "    # 各従業員の出勤をMAX_SHIFT（3日）までに抑える制約\n",
    "    for i in range(genom_arr.shape[0]):\n",
    "        employee = genom_arr[i]\n",
    "        if sum(employee) > MAX_SHIFT:\n",
    "            penalty += 50.0 * abs(sum(employee) - MAX_SHIFT)\n",
    "    # 必要人数とアサイン人数が一致するようにする制約\n",
    "    for i in range(genom_arr.shape[1]):\n",
    "        if sum([shift[i] for shift in genom_arr]) != SHIFT_BOX[i][1]:\n",
    "            penalty += 10.0 * abs(sum([shift[i] for shift in genom_arr]) - SHIFT_BOX[i][1])\n",
    "                                       \n",
    "    return penalty"
   ]
  },
  {
   "cell_type": "markdown",
   "metadata": {},
   "source": [
    "## 選択\n",
    "今回はエリート選択を利用する。"
   ]
  },
  {
   "cell_type": "code",
   "execution_count": 62,
   "metadata": {},
   "outputs": [],
   "source": [
    "def elite_select(Chromosome, elite_length):\n",
    "    \"\"\"選択関数です。エリート選択\n",
    "    評価が高い順番にソートを行った後、一定以上の染色体を選択\n",
    "    :param Chromosome: 選択を行うChromosomeClassの配列\n",
    "    :param elite_length: 選択する染色体数\n",
    "    :return: 選択処理をした一定のエリート、ChromosomeClassを返す\n",
    "    \"\"\"\n",
    "    # 現行世代個体集団の評価を低い順番にソートする\n",
    "    sort_result = sorted(Chromosome, reverse=False, key=lambda u: u.evaluation)\n",
    "    # 一定の上位を抽出する\n",
    "    result = [sort_result.pop(0) for i in range(elite_length)]\n",
    "    return result"
   ]
  },
  {
   "cell_type": "markdown",
   "metadata": {},
   "source": [
    "## 交叉"
   ]
  },
  {
   "cell_type": "markdown",
   "metadata": {},
   "source": [
    "### 二点交叉"
   ]
  },
  {
   "cell_type": "code",
   "execution_count": 63,
   "metadata": {},
   "outputs": [],
   "source": [
    "def crossover(Chromosome_one, Chromosome_second):\n",
    "    \"\"\"交叉関数。二点交叉\n",
    "    :param Chromosome: 交叉させるChromosomeClassの配列\n",
    "    :param Chromosome_one: 一つ目の個体\n",
    "    :param Chromosome_second: 二つ目の個体\n",
    "    :return: 二つの子孫ChromosomeClassを格納したリスト返す\n",
    "    \"\"\"\n",
    "    # 子孫を格納するリストを生成\n",
    "    genom_list = []\n",
    "    # 入れ替える二点の点を設定\n",
    "    cross_one = random.randint(0, int(GENOM_LENGTH/DAY))\n",
    "    cross_second = random.randint(cross_one, int(GENOM_LENGTH/DAY))\n",
    "    # 遺伝子を取り出し\n",
    "    one = Chromosome_one.getGenom()\n",
    "    second = Chromosome_second.getGenom()\n",
    "    # 交叉\n",
    "    progeny_one = one[:cross_one] + second[cross_one:cross_second] + one[cross_second:]\n",
    "    progeny_second = second[:cross_one] + one[cross_one:cross_second] + second[cross_second:]\n",
    "    # ChromosomeClassインスタンスを生成して子孫をリストに格納\n",
    "    genom_list.append(Chromosome(progeny_one, 0))\n",
    "    genom_list.append(Chromosome(progeny_second, 0))\n",
    "    return genom_list"
   ]
  },
  {
   "cell_type": "markdown",
   "metadata": {},
   "source": [
    "### 一様交叉"
   ]
  },
  {
   "cell_type": "code",
   "execution_count": 64,
   "metadata": {},
   "outputs": [],
   "source": [
    "def uniform_crossover(Chromosome_one, Chromosome_second):\n",
    "    \"\"\"交叉関数。一様交叉。\n",
    "    :param Chromosome: 交叉させるChromosomeClassの配列\n",
    "    :param Chromosome_one: 一つ目の個体\n",
    "    :param Chromosome_second: 二つ目の個体\n",
    "    :return: 二つの子孫ChromosomeClassを格納したリスト返す\n",
    "    \"\"\"\n",
    "    # 子孫を格納するリストを生成\n",
    "    genom_list = []\n",
    "    # 遺伝子を取り出す\n",
    "    one = Chromosome_one.getGenom()\n",
    "    second = Chromosome_second.getGenom()\n",
    "    # 交叉\n",
    "    for i in range(len(one)):\n",
    "        if np.random.rand() < 0.5:\n",
    "            genom_list.append(one[i])\n",
    "        else:\n",
    "            genom_list.append(second[i])\n",
    "            \n",
    "    return [Chromosome(genom_list, 0)]"
   ]
  },
  {
   "cell_type": "markdown",
   "metadata": {},
   "source": [
    "### 突然変異"
   ]
  },
  {
   "cell_type": "code",
   "execution_count": 65,
   "metadata": {},
   "outputs": [],
   "source": [
    "def mutation(Chromosome, individual_mutation, genom_mutation):\n",
    "    \"\"\"突然変異関数。\n",
    "    :param Chromosome: 突然変異をさせるChromosomeClass\n",
    "    :param individual_mutation: 固定に対する突然変異確率\n",
    "    :param Chromosome_mutation: 遺伝子一つ一つに対する突然変異確率\n",
    "    :return: 突然変異処理をしたgenomClassを返す\"\"\"\n",
    "    Chromosome_list = []\n",
    "    for genom in Chromosome:\n",
    "        # 個体に対して一定の確率で突然変異が起きる\n",
    "        if individual_mutation > (random.randint(0, 100) / Decimal(100)):\n",
    "            genom_list = []\n",
    "            for i_ in genom.getGenom():\n",
    "                ga_list = []\n",
    "                # 個体の遺伝子情報一つ一つに対して突然変異が起こる\n",
    "                if genom_mutation > (random.randint(0, 100) / Decimal(100)):\n",
    "                    for j in range(len(i_)):\n",
    "                        ga_list.append(float(random.randint(0, 1)))\n",
    "                    genom_list.append(ga_list)\n",
    "                else:\n",
    "                    genom_list.append(i_)\n",
    "            genom.setGenom(genom_list)\n",
    "            Chromosome_list.append(genom)\n",
    "        else:\n",
    "            Chromosome_list.append(genom)\n",
    "    return Chromosome_list"
   ]
  },
  {
   "cell_type": "markdown",
   "metadata": {},
   "source": [
    "## 世代交代"
   ]
  },
  {
   "cell_type": "code",
   "execution_count": 66,
   "metadata": {},
   "outputs": [],
   "source": [
    "def next_generation_gene_create(Chromosome, Chromosome_elite, Chromosome_progeny):\n",
    "    \"\"\"\n",
    "    世代交代処理\n",
    "    :param Chromosome: 現行世代個体集団\n",
    "    :param Chromosome_elite: 現行世代エリート集団\n",
    "    :param Chromosome_progeny: 現行世代子孫集団\n",
    "    :return: 次世代個体集団\n",
    "    \"\"\"\n",
    "    # 現行世代個体集団の評価を高い順番にソート\n",
    "    next_generation_geno = sorted(Chromosome, reverse=True, key=lambda u: u.evaluation)\n",
    "    # 追加するエリート集団と子孫集団の合計分を取り除く\n",
    "    for i in range(0, len(Chromosome_elite) + len(Chromosome_progeny)):\n",
    "        next_generation_geno.pop(0)\n",
    "    # エリート集団と子孫集団を次世代集団を次世代へ追加\n",
    "    next_generation_geno.extend(Chromosome_elite)\n",
    "    next_generation_geno.extend(Chromosome_progeny)\n",
    "    return next_generation_geno"
   ]
  },
  {
   "cell_type": "markdown",
   "metadata": {},
   "source": [
    "# メインループ"
   ]
  },
  {
   "cell_type": "code",
   "execution_count": 67,
   "metadata": {},
   "outputs": [
    {
     "name": "stdout",
     "output_type": "stream",
     "text": [
      "2024-06-29 14:00:55.134698 世代数 : 1   Min : 40.000  Max : 580.000   Avg : 263.267  \n",
      "2024-06-29 14:00:55.142318 世代数 : 2   Min : 30.000  Max : 320.000   Avg : 157.300  \n",
      "2024-06-29 14:00:55.151307 世代数 : 3   Min : 30.000  Max : 200.000   Avg : 97.167  \n",
      "2024-06-29 14:00:55.156157 世代数 : 4   Min : 30.000  Max : 270.000   Avg : 66.867  \n",
      "2024-06-29 14:00:55.168050 世代数 : 5   Min : 20.000  Max : 200.000   Avg : 45.867  \n",
      "2024-06-29 14:00:55.172146 世代数 : 6   Min : 20.000  Max : 200.000   Avg : 37.133  \n",
      "2024-06-29 14:00:55.172146 世代数 : 7   Min : 20.000  Max : 190.000   Avg : 37.367  \n",
      "2024-06-29 14:00:55.188388 世代数 : 8   Min : 20.000  Max : 380.000   Avg : 41.367  \n",
      "2024-06-29 14:00:55.188388 世代数 : 9   Min : 20.000  Max : 270.000   Avg : 36.900  \n",
      "2024-06-29 14:00:55.201196 世代数 : 10   Min : 0.000  Max : 160.000   Avg : 37.400  \n",
      "optimal\n",
      "2024-06-29 14:00:55.201196 世代数 : 10   Min : 0.000  Max : 160.000   Avg : 37.400  \n",
      "最良個体情報:[[1.0, 0.0, 0.0, 0.0, 1.0, 0.0, 1.0], [0.0, 1.0, 1.0, 1.0, 0.0, 0.0, 0.0], [1.0, 0.0, 1.0, 0.0, 0.0, 1.0, 0.0], [0.0, 0.0, 0.0, 0.0, 1.0, 1.0, 1.0], [0.0, 1.0, 0.0, 0.0, 0.0, 1.0, 1.0]]\n"
     ]
    }
   ],
   "source": [
    "# 一番最初の現行世代個体集団を生成\n",
    "current_generation_individual_group = []\n",
    "for i in range(MAX_GENOM_LIST):\n",
    "    current_generation_individual_group.append(create_Chromosome(GENOM_LENGTH))\n",
    "\n",
    "for count_ in range(1, MAX_GENERATION + 1):\n",
    "    # 現行世代個体集団の遺伝子を評価し、ChromosomeClassに代入\n",
    "    for i in range(MAX_GENOM_LIST):\n",
    "        evaluation_result = evaluation(current_generation_individual_group[i])\n",
    "        current_generation_individual_group[i].setEvaluation(evaluation_result)\n",
    "    # エリート個体を選択\n",
    "    elite_genes = elite_select(current_generation_individual_group,SELECT_GENOM)\n",
    "    # エリート遺伝子を交叉させ、リストに格納\n",
    "    progeny_gene = []\n",
    "    for i in range(0, SELECT_GENOM):\n",
    "        progeny_gene.extend(crossover(elite_genes[i - 1], elite_genes[i]))\n",
    "    # 次世代個体集団を現行世代、エリート集団、子孫集団から作成\n",
    "    next_generation_individual_group = next_generation_gene_create(current_generation_individual_group,\n",
    "                                                                   elite_genes, progeny_gene)\n",
    "    # 次世代個体集団全ての個体に突然変異を施す\n",
    "    next_generation_individual_group = mutation(next_generation_individual_group,INDIVIDUAL_MUTATION,GENOM_MUTATION)\n",
    "\n",
    "    # 1世代の進化的計算終了\n",
    "\n",
    "    # 各個体適用度を配列化\n",
    "    fits = [i.getEvaluation() for i in current_generation_individual_group]\n",
    "\n",
    "    # 進化結果を評価\n",
    "    min_ = min(fits)\n",
    "    max_ = max(fits)\n",
    "    avg_ = Decimal(sum(fits)) / Decimal(len(fits))\n",
    "\n",
    "    # 現行世代の進化結果を出力します\n",
    "    print(datetime.now(),\n",
    "          f'世代数 : {count_}  ',\n",
    "          f'Min : {min_:.3f} ',\n",
    "          f'Max : {max_:.3f}  ',\n",
    "          f'Avg : {avg_:.3f}  '\n",
    "         )\n",
    "    # 現行世代と次世代を入れ替える\n",
    "    current_generation_individual_group = next_generation_individual_group\n",
    "    # 適応度が閾値に達したら終了\n",
    "    if THRESSHOLD >= min_:\n",
    "        print('optimal')\n",
    "        print(datetime.now(),\n",
    "          f'世代数 : {count_}  ',\n",
    "          f'Min : {min_:.3f} ',\n",
    "          f'Max : {max_:.3f}  ',\n",
    "          f'Avg : {avg_:.3f}  '\n",
    "         )\n",
    "        break\n",
    "# 最最良個体結果出力\n",
    "print(f'最良個体情報:{elite_genes[0].getGenom()}')"
   ]
  }
 ],
 "metadata": {
  "kernelspec": {
   "display_name": "venv",
   "language": "python",
   "name": "python3"
  },
  "language_info": {
   "codemirror_mode": {
    "name": "ipython",
    "version": 3
   },
   "file_extension": ".py",
   "mimetype": "text/x-python",
   "name": "python",
   "nbconvert_exporter": "python",
   "pygments_lexer": "ipython3",
   "version": "3.12.2"
  }
 },
 "nbformat": 4,
 "nbformat_minor": 2
}
